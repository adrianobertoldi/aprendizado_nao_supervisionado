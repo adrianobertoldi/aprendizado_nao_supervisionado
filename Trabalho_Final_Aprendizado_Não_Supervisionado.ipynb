{
  "nbformat": 4,
  "nbformat_minor": 0,
  "metadata": {
    "colab": {
      "name": "Trabalho_Final_Aprendizado_Não_Supervisionado.ipynb",
      "provenance": []
    },
    "kernelspec": {
      "name": "python3",
      "display_name": "Python 3"
    }
  },
  "cells": [
    {
      "cell_type": "code",
      "metadata": {
        "id": "WsfSI1aHMzdd"
      },
      "source": [
        "import numpy as np\r\n",
        "import cv2 as cv\r\n",
        "from zipfile import ZipFile\r\n",
        "import os\r\n",
        "import string\r\n",
        "import pandas as pd\r\n",
        "import operator\r\n",
        "from IPython.display import Image"
      ],
      "execution_count": 1,
      "outputs": []
    },
    {
      "cell_type": "code",
      "metadata": {
        "colab": {
          "base_uri": "https://localhost:8080/"
        },
        "id": "yT2k9OxHbDLo",
        "outputId": "66b9acc8-ffc0-46be-e46f-fd10eb46677c"
      },
      "source": [
        "# Adicionar o arquivo ORL.Zip ao Colab (upload)\r\n",
        "zipName = \"ORL.zip\" # Especifica o nome do arquivo para ser descompactado\r\n",
        "\r\n",
        "# Descompacta o arquivo no diretório do Colab (facilitar importação das imagens) \r\n",
        "with ZipFile(zipName, 'r') as zip:\r\n",
        "    print('Extracting all the files now...') \r\n",
        "    zip.extractall() \r\n",
        "    print('Done!') "
      ],
      "execution_count": 2,
      "outputs": [
        {
          "output_type": "stream",
          "text": [
            "Extracting all the files now...\n",
            "Done!\n"
          ],
          "name": "stdout"
        }
      ]
    },
    {
      "cell_type": "code",
      "metadata": {
        "id": "a6zgdFFagcGy",
        "colab": {
          "base_uri": "https://localhost:8080/"
        },
        "outputId": "f893dcf0-eb9a-4cb0-e4f8-f2d12c2903f8"
      },
      "source": [
        "fileList = os.listdir('ORL2/')\r\n",
        "print (len(fileList))"
      ],
      "execution_count": 3,
      "outputs": [
        {
          "output_type": "stream",
          "text": [
            "410\n"
          ],
          "name": "stdout"
        }
      ]
    },
    {
      "cell_type": "code",
      "metadata": {
        "id": "O6UtnouSoDEf"
      },
      "source": [
        "person = []\r\n",
        "for fileName in fileList:\r\n",
        "  # inserindo as id e labels para cada pessoa\r\n",
        "  strName = str(fileName)\r\n",
        "  strName = strName.replace('.jpg', '')\r\n",
        "  id, label = strName.split('_', 1)\r\n",
        "\r\n",
        "  # convertendo todas as imagens em escala de cinza\r\n",
        "  image = cv.imread(os.path.join('ORL2/',fileName), cv.IMREAD_GRAYSCALE)\r\n",
        "  \r\n",
        "  # redimensionando as imagens para o padrão\r\n",
        "  height = 80\r\n",
        "  width = 80\r\n",
        "  dsize = (height, width)\r\n",
        "  image = cv.resize(image, dsize)\r\n",
        "  \r\n",
        "  # aplica transposição da imagem\r\n",
        "  image = np.transpose(image) \r\n",
        "  \r\n",
        "  # reshape das imagens (transformacao em vetor)\r\n",
        "  image = image.reshape(1, height*width)\r\n",
        "  \r\n",
        "  # atribuindo a imagem a pessoa e aplicando float64\r\n",
        "  data = np.float64(image)\r\n",
        "\r\n",
        "  person.append([int(id), int(label), data])\r\n",
        "\r\n",
        "# atribuindo lista de dados em formato de dataframe\r\n",
        "df = pd.DataFrame(person, columns=['id', 'label', 'data'])"
      ],
      "execution_count": 4,
      "outputs": []
    },
    {
      "cell_type": "code",
      "metadata": {
        "id": "GHjaYgpQYO76"
      },
      "source": [
        "# ordenando df por id e label\r\n",
        "df = df.sort_values(by=['id', 'label'], ascending=True)"
      ],
      "execution_count": 5,
      "outputs": []
    },
    {
      "cell_type": "code",
      "metadata": {
        "id": "IRJazMEVxodo"
      },
      "source": [
        "# dividindo o dataframe para treino e teste \r\n",
        "\r\n",
        "p = 0.7 # porcentagem de amostras para treino (0 < p < 1) - teste = 1-p\r\n",
        "\r\n",
        "# criando grupo de treino randomizado\r\n",
        "trainData = df.sample(frac=p)\r\n",
        "\r\n",
        "# criando grupo de testes removendo o grupo de treino do df\r\n",
        "testData = df.drop(trainData.index)"
      ],
      "execution_count": 6,
      "outputs": []
    },
    {
      "cell_type": "code",
      "metadata": {
        "colab": {
          "base_uri": "https://localhost:8080/"
        },
        "id": "6XpOFKULy_H0",
        "outputId": "b12bbe58-4088-4665-e788-5397a4a3b2f5"
      },
      "source": [
        "print ('O tamanho das amostras de treino é:', len(trainData))\r\n",
        "print ('O tamanho das amostras de teste é:', len(testData))"
      ],
      "execution_count": 7,
      "outputs": [
        {
          "output_type": "stream",
          "text": [
            "O tamanho das amostras de treino é: 287\n",
            "O tamanho das amostras de teste é: 123\n"
          ],
          "name": "stdout"
        }
      ]
    },
    {
      "cell_type": "code",
      "metadata": {
        "colab": {
          "base_uri": "https://localhost:8080/"
        },
        "id": "_iv2ouJq5pOj",
        "outputId": "44b960ab-29bb-4021-80fc-3114f7dca411"
      },
      "source": [
        "# geração da imagem média\r\n",
        "meanImage = np.mean(trainData['data'])\r\n",
        "print (meanImage)"
      ],
      "execution_count": 8,
      "outputs": [
        {
          "output_type": "stream",
          "text": [
            "[[63.12891986 77.25087108 72.80836237 ... 63.16027875 66.96864111\n",
            "  56.15679443]]\n"
          ],
          "name": "stdout"
        }
      ]
    },
    {
      "cell_type": "code",
      "metadata": {
        "colab": {
          "base_uri": "https://localhost:8080/",
          "height": 97
        },
        "id": "-O1r8ddESQWa",
        "outputId": "eefbad78-df39-4627-f5f0-8b16a7e40639"
      },
      "source": [
        "# salvar imagem média para verificação\r\n",
        "\r\n",
        "# convertendo o vetor de imagem média para matriz (psi)\r\n",
        "saveMeanImg = np.reshape(meanImage, (width, height))\r\n",
        "\r\n",
        "# aplicando a transposição das linhas para coluna (imagem de lado)\r\n",
        "saveMeanImg = np.transpose(saveMeanImg)\r\n",
        "\r\n",
        "# salvando arquivo de imagem media para verificação\r\n",
        "cv.imwrite('meanImg.jpg', saveMeanImg)\r\n",
        "Image('meanImg.jpg')"
      ],
      "execution_count": 9,
      "outputs": [
        {
          "output_type": "execute_result",
          "data": {
            "image/jpeg": "[encoded data removed]",
            "text/plain": [
              "<IPython.core.display.Image object>"
            ]
          },
          "metadata": {
            "tags": []
          },
          "execution_count": 9
        }
      ]
    },
    {
      "cell_type": "code",
      "metadata": {
        "colab": {
          "base_uri": "https://localhost:8080/"
        },
        "id": "g_OjGzyFqdMp",
        "outputId": "eba82301-d37b-4627-9013-d9f043240403"
      },
      "source": [
        "# criando a matriz de diferenciais e subtraindo da media\r\n",
        "\r\n",
        "# coletando os dados do df de treino\r\n",
        "dataCol = trainData['data'].to_numpy()\r\n",
        "labelListTrain = trainData['label'].to_numpy() # label das imagens de treino (nome da pessoa)\r\n",
        "\r\n",
        "# convertendo os dados coletados para matriz 287x6400\r\n",
        "dataMat = np.concatenate(dataCol, axis=0)\r\n",
        "\r\n",
        "# calculando a matriz de diferenças (fi)\r\n",
        "diffImage = dataMat - meanImage\r\n",
        "\r\n",
        "# calculando a transposta de diff, assim cada pessoa fica em uma coluna (alfa)\r\n",
        "diffImage = np.transpose(diffImage)\r\n",
        "print ('Shape da diffImage:', diffImage.shape)"
      ],
      "execution_count": 10,
      "outputs": [
        {
          "output_type": "stream",
          "text": [
            "Shape da diffImage: (6400, 287)\n"
          ],
          "name": "stdout"
        }
      ]
    },
    {
      "cell_type": "code",
      "metadata": {
        "colab": {
          "base_uri": "https://localhost:8080/"
        },
        "id": "SL6ZNBQMoxEC",
        "outputId": "ebb4ca25-b8d1-4dd4-dd2f-5e3fb7edd1c2"
      },
      "source": [
        "# calculo da matriz de covariancia\r\n",
        "\r\n",
        "# convertendo os dados para matriz\r\n",
        "matA = np.transpose(dataMat)\r\n",
        "print ('Shape da matA:', matA.shape)\r\n",
        "\r\n",
        "# criando matB que é a transposta de matA\r\n",
        "matB = np.transpose(matA)\r\n",
        "print ('Shape da matB:', matB.shape)\r\n",
        "\r\n",
        "# calculando a matriz de covariancia (6400x6400)\r\n",
        "matCovar = np.matmul(matA, matB) # Matriz L\r\n",
        "print ('Shape da matCovar:', matCovar.shape)"
      ],
      "execution_count": 11,
      "outputs": [
        {
          "output_type": "stream",
          "text": [
            "Shape da matA: (6400, 287)\n",
            "Shape da matB: (287, 6400)\n",
            "Shape da matCovar: (6400, 6400)\n"
          ],
          "name": "stdout"
        }
      ]
    },
    {
      "cell_type": "code",
      "metadata": {
        "colab": {
          "base_uri": "https://localhost:8080/"
        },
        "id": "3_VGfbCsBxFE",
        "outputId": "c49c9cff-b553-4831-bf92-df014fa692b2"
      },
      "source": [
        "# cálculo dos autovalores e autovetores\r\n",
        "w, v = np.linalg.eig(matCovar)\r\n",
        "\r\n",
        "# encontrar os índices decrescentes (maiores autovalores)\r\n",
        "idx = w.argsort()[::-1]\r\n",
        "\r\n",
        "# ordena os autovalores e auto vetores em ordem decrescente\r\n",
        "w = w[idx]\r\n",
        "v = v[:,idx]\r\n",
        "print ('Eigenvalues :', len(w))\r\n",
        "print ('Eigenvectors:', len(v))"
      ],
      "execution_count": 12,
      "outputs": [
        {
          "output_type": "stream",
          "text": [
            "Eigenvalues : 6400\n",
            "Eigenvectors: 6400\n"
          ],
          "name": "stdout"
        }
      ]
    },
    {
      "cell_type": "code",
      "metadata": {
        "colab": {
          "base_uri": "https://localhost:8080/"
        },
        "id": "wN4T1u0AwaD2",
        "outputId": "df409ef2-e7d6-4c15-ec09-088f3c707dfd"
      },
      "source": [
        "lstEigenvectors = []\r\n",
        "\r\n",
        "# inicia o for com range de k componentes principais (calcula toda sequencia dentro desse for)\r\n",
        "for k in range (10,21,1):\r\n",
        "  idxComp = list(range(0,k,1))\r\n",
        "  matEigenvectors = v[:,idxComp]\r\n",
        "  #print ('Shape matEigenvectors:', matEigenvectors.shape)\r\n",
        "\r\n",
        "  # calculo das eigenfaces U\r\n",
        "  matEigenface = np.matmul(matCovar, matEigenvectors)\r\n",
        "  #print ('Shape matEigenface:', matEigenface.shape)\r\n",
        "\r\n",
        "  # cálculo das projeções\r\n",
        "  # para cada k (consequentemente eigenface)\r\n",
        "  # matProjectionsTrain (omega) = eigenFaces.transposta * diffImage (alfa)\r\n",
        "\r\n",
        "  # calculando a transposta da matriz de eigenfaces\r\n",
        "  matEigenface_t = np.transpose(matEigenface)\r\n",
        "  #print ('Shape matEigenface_t:', matEigenface_t.shape)\r\n",
        "  matProjectionsTrain = np.matmul(matEigenface_t, diffImage)\r\n",
        "  #print ('Shape matProjectionsTrain:', matProjectionsTrain.shape)\r\n",
        "\r\n",
        "  # etapa de teste\r\n",
        "\r\n",
        "  # coletando os dados do df de treino\r\n",
        "  dataColTest = testData['data'].to_numpy()\r\n",
        "  labelListTest = testData['label'].to_numpy() # label das imagens de teste (nome da pessoa)\r\n",
        "\r\n",
        "  # convertendo os dados coletados para matriz \r\n",
        "  dataMatTest = np.concatenate(dataColTest, axis=0)\r\n",
        "\r\n",
        "  # calculando a matriz de diferenças (fi)\r\n",
        "  diffImageTest = dataMatTest - meanImage\r\n",
        "\r\n",
        "  # calculando a transposta de diff, assim cada pessoa fica em uma coluna (alfa)\r\n",
        "  diffImageTest = np.transpose(diffImageTest)\r\n",
        "  #print ('Shape da diffImage:', diffImageTest.shape)\r\n",
        "\r\n",
        "  # projetando as imagens desconhecidas no espaço de treino\r\n",
        "  matProjectionsTest = np.matmul(matEigenface_t, diffImageTest) \r\n",
        "  #print ('Shape matProjectionsTest:', matProjectionsTest.shape)\r\n",
        "  \r\n",
        "  # salvando todas imagens desconhecidas em uma matriz (cada coluna é uma pessoa desconhecida)\r\n",
        "\r\n",
        "  totalTestImages = len(testData['data'])\r\n",
        "  imageRecognized = 0\r\n",
        "  counter = 0\r\n",
        "  for i in range(len(testData['data'])):\r\n",
        "    distList = []\r\n",
        "    distList.clear()\r\n",
        "    labelActual = labelListTest[i]\r\n",
        "    for j in range(len(trainData['data'])):\r\n",
        "      vecA = matProjectionsTest[:,i]\r\n",
        "      vecB = matProjectionsTrain[:,j]\r\n",
        "      dist = np.linalg.norm(vecA-vecB)\r\n",
        "      distList.append(abs(dist))\r\n",
        "      counter += 1\r\n",
        "    indexMin = distList.index(min(distList))\r\n",
        "    labelEstimation = labelListTrain[indexMin]\r\n",
        "    if labelEstimation == labelActual:\r\n",
        "      imageRecognized += 1\r\n",
        "      #print ('Imagem reconhecida! Total = {} de {}'.format(imageRecognized, totalTestImages))\r\n",
        "    else:\r\n",
        "      #print ('Pessoa estimada: {} | Pessoa real: {}'.format(labelEstimation, labelActual))\r\n",
        "      continue\r\n",
        "\r\n",
        "  accuracy = (imageRecognized/totalTestImages)*100\r\n",
        "  print('{} componentes principais, acurácia: {:.1f}%'.format(k, accuracy))\r\n",
        "  #print ('Total de verificações:', counter)"
      ],
      "execution_count": 19,
      "outputs": [
        {
          "output_type": "stream",
          "text": [
            "10 componentes principais, acurácia: 29.3%\n",
            "11 componentes principais, acurácia: 29.3%\n",
            "12 componentes principais, acurácia: 29.3%\n",
            "13 componentes principais, acurácia: 29.3%\n",
            "14 componentes principais, acurácia: 29.3%\n",
            "15 componentes principais, acurácia: 29.3%\n",
            "16 componentes principais, acurácia: 29.3%\n",
            "17 componentes principais, acurácia: 29.3%\n",
            "18 componentes principais, acurácia: 29.3%\n",
            "19 componentes principais, acurácia: 29.3%\n",
            "20 componentes principais, acurácia: 29.3%\n"
          ],
          "name": "stdout"
        }
      ]
    },
    {
      "cell_type": "markdown",
      "metadata": {
        "id": "0W5zuKZCbpuY"
      },
      "source": [
        "Nos testes realizados, a acurácia apresentada pelo modelo anterior ficou muito baixa. Por isso, buscou-se uma alternativa de melhoria com o uso do OpenCV para cálculos dos EigenVectors, apresentado abaixo."
      ]
    },
    {
      "cell_type": "code",
      "metadata": {
        "colab": {
          "base_uri": "https://localhost:8080/"
        },
        "id": "7Q03-N2s5G4s",
        "outputId": "9ffa5a4b-3b2a-4694-fd2a-d0ce0fe93829"
      },
      "source": [
        "# EigenVectors calculados com OpenCV\r\n",
        "\r\n",
        "# matEigenface = matCovar * matEigenvectors (para k componentes principais)\r\n",
        "lstEigenvectors = []\r\n",
        "\r\n",
        "# inicia o for com range de k componentes principais (calcula toda sequencia dentro desse for)\r\n",
        "for k in range (10,21,1):\r\n",
        "  \r\n",
        "  # matriz de entrada deve deve ter o conteudo em linhas (l=pessoa x c=dados imagens)\r\n",
        "  mean, matEigenvectors = cv.PCACompute(matB, mean=None, maxComponents=k)\r\n",
        "  matEigenvectors = np.transpose(matEigenvectors)\r\n",
        "  #print ('Shape matEigenvectors:', matEigenvectors.shape)\r\n",
        "\r\n",
        "  # calculo das eigenfaces U\r\n",
        "  matEigenface = np.matmul(matCovar, matEigenvectors)\r\n",
        "  #print ('Shape matEigenface:', matEigenface.shape)\r\n",
        "\r\n",
        "  # cálculo das projeções\r\n",
        "  # para cada k (consequentemente eigenface)\r\n",
        "  # matProjectionsTrain (omega) = eigenFaces.transposta * diffImage (alfa)\r\n",
        "\r\n",
        "  # calculando a transposta da matriz de eigenfaces\r\n",
        "  matEigenface_t = np.transpose(matEigenface)\r\n",
        "  #print ('Shape matEigenface_t:', matEigenface_t.shape)\r\n",
        "\r\n",
        "  matProjectionsTrain = np.matmul(matEigenface_t, diffImage)\r\n",
        "  #print ('Shape matProjectionsTrain:', matProjectionsTrain.shape)\r\n",
        "\r\n",
        "  # coletando os dados do df de treino\r\n",
        "  dataColTest = testData['data'].to_numpy()\r\n",
        "  labelListTest = testData['label'].to_numpy() # label das imagens de teste (nome da pessoa)\r\n",
        "\r\n",
        "  # convertendo os dados coletados para matriz \r\n",
        "  dataMatTest = np.concatenate(dataColTest, axis=0)\r\n",
        "\r\n",
        "  # calculando a matriz de diferenças (fi)\r\n",
        "  diffImageTest = dataMatTest - meanImage\r\n",
        "\r\n",
        "  # calculando a transposta de diff, assim cada pessoa fica em uma coluna (alfa)\r\n",
        "  diffImageTest = np.transpose(diffImageTest)\r\n",
        "  #print ('Shape da diffImage:', diffImageTest.shape)\r\n",
        "\r\n",
        "  # projetando as imagens desconhecidas no espaço de treino\r\n",
        "  matProjectionsTest = np.matmul(matEigenface_t, diffImageTest) # fazer para cada um (0 até len(testData))\r\n",
        "  #print ('Shape matProjectionsTest:', matProjectionsTest.shape)\r\n",
        "  # salvando todas imagens desconhecidas em uma matriz (cada coluna é uma pessoa desconhecida)\r\n",
        "\r\n",
        "  totalTestImages = len(testData['data'])\r\n",
        "  imageRecognized = 0\r\n",
        "  for i in range(len(testData['data'])):\r\n",
        "    distList = []\r\n",
        "    distList.clear()\r\n",
        "    for j in range(len(trainData['data'])):\r\n",
        "      vecA = matProjectionsTest[:,i]\r\n",
        "      vecB = matProjectionsTrain[:,j]\r\n",
        "      dist = np.sqrt((vecA-vecB)**2)\r\n",
        "      norm = np.linalg.norm(dist)\r\n",
        "      distList.append(norm)\r\n",
        "      #print(distList)\r\n",
        "    indexMin = distList.index(min(distList))\r\n",
        "    labelEstimation = labelListTrain[indexMin]\r\n",
        "    labelActual = labelListTest[i]\r\n",
        "    #print (labelEstimation, labelActual)\r\n",
        "    if labelEstimation == labelActual:\r\n",
        "      imageRecognized += 1\r\n",
        "      #print ('Imagem reconhecida! Total = {} de {}'.format(imageRecognized, totalTestImages))\r\n",
        "\r\n",
        "  accuracy = (imageRecognized/totalTestImages)*100\r\n",
        "  print('{} componentes principais, acurácia: {:.1f}%'.format(k, accuracy))\r\n",
        "\r\n",
        "\r\n"
      ],
      "execution_count": 21,
      "outputs": [
        {
          "output_type": "stream",
          "text": [
            "10 componentes principais, acurácia: 30.9%\n",
            "11 componentes principais, acurácia: 30.9%\n",
            "12 componentes principais, acurácia: 31.7%\n",
            "13 componentes principais, acurácia: 31.7%\n",
            "14 componentes principais, acurácia: 31.7%\n",
            "15 componentes principais, acurácia: 31.7%\n",
            "16 componentes principais, acurácia: 31.7%\n",
            "17 componentes principais, acurácia: 31.7%\n",
            "18 componentes principais, acurácia: 31.7%\n",
            "19 componentes principais, acurácia: 31.7%\n",
            "20 componentes principais, acurácia: 31.7%\n"
          ],
          "name": "stdout"
        }
      ]
    },
    {
      "cell_type": "markdown",
      "metadata": {
        "id": "x10sMT0VcaYo"
      },
      "source": [
        "É possível verificar uma leve melhora na acurácia com o uso de 12 ou mais componentes principais. Contudo, esse resultado ficou muito abaixo do apresentado pelo algoritmo desenvolvido em sala (Java). Isso pode ter ocorrido por baixa eficiência nas ferramentas empregadas nesse código ou eventualmente um erro na escrita do algoritmo, não detectado até o momento. "
      ]
    }
  ]
}